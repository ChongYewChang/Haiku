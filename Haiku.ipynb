{
 "cells": [
  {
   "cell_type": "markdown",
   "id": "14d3b4b2",
   "metadata": {},
   "source": [
    "![alt text](https://upload.wikimedia.org/wikipedia/commons/7/74/Basho_Horohoroto.jpg \"Title\")\n"
   ]
  },
  {
   "cell_type": "code",
   "execution_count": null,
   "id": "15f9939b",
   "metadata": {},
   "outputs": [],
   "source": [
    "!python3 -m spacy download en_core_web_sm"
   ]
  },
  {
   "cell_type": "code",
   "execution_count": null,
   "id": "333e80d3",
   "metadata": {},
   "outputs": [],
   "source": []
  },
  {
   "cell_type": "code",
   "execution_count": 15,
   "id": "652bc262",
   "metadata": {},
   "outputs": [],
   "source": [
    "import spacy\n",
    "from spacy.matcher import Matcher\n",
    "\n",
    "nlp = spacy.load('en_core_web_sm')\n",
    "with open(\"alchemist.txt\") as infile:\n",
    "    doc = nlp(infile.read())\n",
    "\n",
    "# matcher to create token patterns\n",
    "# pattern is a dictionary for a token, lemmas are base forms buy -> bought\n",
    "from spacy.matcher import Matcher\n",
    "matcher2 = Matcher(nlp.vocab)\n",
    "matcher3 = Matcher(nlp.vocab)\n",
    "matcher4 = Matcher(nlp.vocab)\n",
    "pattern = [{'POS':  {\"IN\": [\"NOUN\", \"ADP\", \"ADJ\", \"ADV\"]} },\n",
    "           {'POS':  {\"IN\": [\"NOUN\", \"VERB\"]} }]\n",
    "matcher2.add(\"TwoWords\", [pattern])\n",
    "pattern = [{'POS':  {\"IN\": [\"NOUN\", \"ADP\", \"ADJ\", \"ADV\"]} },\n",
    "           {'IS_ASCII': True, 'IS_PUNCT': False, 'IS_SPACE': False},\n",
    "           {'POS':  {\"IN\": [\"NOUN\", \"VERB\", \"ADJ\", \"ADV\"]} }]\n",
    "matcher3.add(\"ThreeWords\", [pattern])\n",
    "pattern = [{'POS':  {\"IN\": [\"NOUN\", \"ADP\", \"ADJ\", \"ADV\"]} },{'IS_ASCII': True, 'IS_PUNCT': False, 'IS_SPACE': False},{'IS_ASCII': True, 'IS_PUNCT': False, 'IS_SPACE': False},\n",
    "{'POS':  {\"IN\": [\"NOUN\", \"VERB\", \"ADJ\", \"ADV\"]} }]\n",
    "matcher4.add(\"FourWords\", [pattern])\n",
    "matches2 = matcher2(doc)\n",
    "matches3 = matcher3(doc)\n",
    "matches4 = matcher4(doc)\n",
    "\n",
    "import syllapy\n",
    "import random\n",
    "g_5 = []\n",
    "g_7 = []\n",
    "    \n",
    "# foreach of the matched patterns if range total syllables is 5,7 add to list\n",
    "total_matches = matches2 + matches3 + matches4\n",
    "for match_id, start, end in total_matches:\n",
    "    span = doc[start:end]\n",
    "    string_id = nlp.vocab.strings[match_id]  # Get string representation\n",
    "    total_syl_count = 0\n",
    "    for token in span:\n",
    "        total_syl_count += syllapy.count(token.text)\n",
    "    if total_syl_count == 5:\n",
    "        if span.text not in g_5:\n",
    "            g_5.append(span.text)\n",
    "    if total_syl_count == 7:\n",
    "        if span.text not in g_7:\n",
    "            g_7.append(span.text)"
   ]
  },
  {
   "cell_type": "code",
   "execution_count": 12,
   "id": "7cf1e6c2",
   "metadata": {},
   "outputs": [],
   "source": [
    "def tokenise(doc, matches):\n",
    "    return [doc[k[1]:k[2]] for k in matches]\n",
    "token_list = list(set(tokenise(doc, total_matches)))\n",
    "g_5 = list(filter(lambda s:syllapy.count(s.text)==5,token_list))\n",
    "g_7 = list(filter(lambda s:syllapy.count(s.text)==7,token_list))"
   ]
  },
  {
   "cell_type": "code",
   "execution_count": null,
   "id": "bcd2bb70",
   "metadata": {},
   "outputs": [],
   "source": [
    "for k in range(10):\n",
    "    print(f\"{random.choice(g_5)}\\n{random.choice(g_7)}\\n{random.choice(g_5)}\\n\")"
   ]
  }
 ],
 "metadata": {
  "kernelspec": {
   "display_name": "Python 3",
   "language": "python",
   "name": "python3"
  },
  "language_info": {
   "codemirror_mode": {
    "name": "ipython",
    "version": 3
   },
   "file_extension": ".py",
   "mimetype": "text/x-python",
   "name": "python",
   "nbconvert_exporter": "python",
   "pygments_lexer": "ipython3",
   "version": "3.7.0"
  }
 },
 "nbformat": 4,
 "nbformat_minor": 5
}
