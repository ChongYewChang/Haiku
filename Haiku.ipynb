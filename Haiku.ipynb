{
 "cells": [
  {
   "attachments": {},
   "cell_type": "markdown",
   "id": "14d3b4b2",
   "metadata": {},
   "source": [
    "![alt text](https://upload.wikimedia.org/wikipedia/commons/7/74/Basho_Horohoroto.jpg \"Title\")\n"
   ]
  },
  {
   "cell_type": "code",
   "execution_count": 1,
   "id": "15f9939b",
   "metadata": {},
   "outputs": [
    {
     "name": "stdout",
     "output_type": "stream",
     "text": [
      "Requirement already satisfied: en_core_web_sm in ./haiku/lib/python3.7/site-packages (3.0.0)\n",
      "Requirement already satisfied: spacy<3.1.0,>=3.0.0 in ./haiku/lib/python3.7/site-packages (from en_core_web_sm) (3.0.5)\n",
      "Requirement already satisfied: numpy>=1.15.0 in ./haiku/lib/python3.7/site-packages (from spacy<3.1.0,>=3.0.0->en_core_web_sm) (1.20.2)\n",
      "Requirement already satisfied: srsly<3.0.0,>=2.4.0 in ./haiku/lib/python3.7/site-packages (from spacy<3.1.0,>=3.0.0->en_core_web_sm) (2.4.1)\n",
      "Requirement already satisfied: tqdm<5.0.0,>=4.38.0 in ./haiku/lib/python3.7/site-packages (from spacy<3.1.0,>=3.0.0->en_core_web_sm) (4.60.0)\n",
      "Requirement already satisfied: wasabi<1.1.0,>=0.8.1 in ./haiku/lib/python3.7/site-packages (from spacy<3.1.0,>=3.0.0->en_core_web_sm) (0.8.2)\n",
      "Requirement already satisfied: catalogue<2.1.0,>=2.0.1 in ./haiku/lib/python3.7/site-packages (from spacy<3.1.0,>=3.0.0->en_core_web_sm) (2.0.3)\n",
      "Requirement already satisfied: preshed<3.1.0,>=3.0.2 in ./haiku/lib/python3.7/site-packages (from spacy<3.1.0,>=3.0.0->en_core_web_sm) (3.0.5)\n",
      "Requirement already satisfied: typer<0.4.0,>=0.3.0 in ./haiku/lib/python3.7/site-packages (from spacy<3.1.0,>=3.0.0->en_core_web_sm) (0.3.2)\n",
      "Requirement already satisfied: murmurhash<1.1.0,>=0.28.0 in ./haiku/lib/python3.7/site-packages (from spacy<3.1.0,>=3.0.0->en_core_web_sm) (1.0.5)\n",
      "Requirement already satisfied: spacy-legacy<3.1.0,>=3.0.0 in ./haiku/lib/python3.7/site-packages (from spacy<3.1.0,>=3.0.0->en_core_web_sm) (3.0.2)\n",
      "Requirement already satisfied: blis<0.8.0,>=0.4.0 in ./haiku/lib/python3.7/site-packages (from spacy<3.1.0,>=3.0.0->en_core_web_sm) (0.7.4)\n",
      "Requirement already satisfied: thinc<8.1.0,>=8.0.2 in ./haiku/lib/python3.7/site-packages (from spacy<3.1.0,>=3.0.0->en_core_web_sm) (8.0.2)\n",
      "Requirement already satisfied: packaging>=20.0 in ./haiku/lib/python3.7/site-packages (from spacy<3.1.0,>=3.0.0->en_core_web_sm) (20.9)\n",
      "Requirement already satisfied: typing-extensions<4.0.0.0,>=3.7.4; python_version < \"3.8\" in ./haiku/lib/python3.7/site-packages (from spacy<3.1.0,>=3.0.0->en_core_web_sm) (3.7.4.3)\n",
      "Requirement already satisfied: pathy>=0.3.5 in ./haiku/lib/python3.7/site-packages (from spacy<3.1.0,>=3.0.0->en_core_web_sm) (0.4.0)\n",
      "Requirement already satisfied: setuptools in ./haiku/lib/python3.7/site-packages (from spacy<3.1.0,>=3.0.0->en_core_web_sm) (39.0.1)\n",
      "Requirement already satisfied: jinja2 in ./haiku/lib/python3.7/site-packages (from spacy<3.1.0,>=3.0.0->en_core_web_sm) (2.11.3)\n",
      "Requirement already satisfied: requests<3.0.0,>=2.13.0 in ./haiku/lib/python3.7/site-packages (from spacy<3.1.0,>=3.0.0->en_core_web_sm) (2.25.1)\n",
      "Requirement already satisfied: pydantic<1.8.0,>=1.7.1 in ./haiku/lib/python3.7/site-packages (from spacy<3.1.0,>=3.0.0->en_core_web_sm) (1.7.3)\n",
      "Requirement already satisfied: importlib-metadata>=0.20; python_version < \"3.8\" in ./haiku/lib/python3.7/site-packages (from spacy<3.1.0,>=3.0.0->en_core_web_sm) (3.10.1)\n",
      "Requirement already satisfied: cymem<2.1.0,>=2.0.2 in ./haiku/lib/python3.7/site-packages (from spacy<3.1.0,>=3.0.0->en_core_web_sm) (2.0.5)\n",
      "Requirement already satisfied: zipp>=0.5; python_version < \"3.8\" in ./haiku/lib/python3.7/site-packages (from catalogue<2.1.0,>=2.0.1->spacy<3.1.0,>=3.0.0->en_core_web_sm) (3.4.1)\n",
      "Requirement already satisfied: click<7.2.0,>=7.1.1 in ./haiku/lib/python3.7/site-packages (from typer<0.4.0,>=0.3.0->spacy<3.1.0,>=3.0.0->en_core_web_sm) (7.1.2)\n",
      "Requirement already satisfied: pyparsing>=2.0.2 in ./haiku/lib/python3.7/site-packages (from packaging>=20.0->spacy<3.1.0,>=3.0.0->en_core_web_sm) (2.4.7)\n",
      "Requirement already satisfied: smart-open<4.0.0,>=2.2.0 in ./haiku/lib/python3.7/site-packages (from pathy>=0.3.5->spacy<3.1.0,>=3.0.0->en_core_web_sm) (3.0.0)\n",
      "Requirement already satisfied: MarkupSafe>=0.23 in ./haiku/lib/python3.7/site-packages (from jinja2->spacy<3.1.0,>=3.0.0->en_core_web_sm) (1.1.1)\n",
      "Requirement already satisfied: chardet<5,>=3.0.2 in ./haiku/lib/python3.7/site-packages (from requests<3.0.0,>=2.13.0->spacy<3.1.0,>=3.0.0->en_core_web_sm) (4.0.0)\n",
      "Requirement already satisfied: urllib3<1.27,>=1.21.1 in ./haiku/lib/python3.7/site-packages (from requests<3.0.0,>=2.13.0->spacy<3.1.0,>=3.0.0->en_core_web_sm) (1.26.4)\n",
      "Requirement already satisfied: certifi>=2017.4.17 in ./haiku/lib/python3.7/site-packages (from requests<3.0.0,>=2.13.0->spacy<3.1.0,>=3.0.0->en_core_web_sm) (2020.12.5)\n",
      "Requirement already satisfied: idna<3,>=2.5 in ./haiku/lib/python3.7/site-packages (from requests<3.0.0,>=2.13.0->spacy<3.1.0,>=3.0.0->en_core_web_sm) (2.10)\n",
      "\u001b[33mYou are using pip version 10.0.1, however version 21.0.1 is available.\n",
      "You should consider upgrading via the 'pip install --upgrade pip' command.\u001b[0m\n"
     ]
    }
   ],
   "source": [
    "import sys\n",
    "!{sys.executable} -m pip install en_core_web_sm"
   ]
  },
  {
   "cell_type": "code",
   "execution_count": null,
   "id": "333e80d3",
   "metadata": {},
   "outputs": [],
   "source": []
  },
  {
   "cell_type": "code",
   "execution_count": 15,
   "id": "652bc262",
   "metadata": {},
   "outputs": [],
   "source": [
    "import spacy\n",
    "from spacy.matcher import Matcher\n",
    "\n",
    "nlp = spacy.load('en_core_web_sm')\n",
    "with open(\"alchemist.txt\") as infile:\n",
    "    doc = nlp(infile.read())\n",
    "\n",
    "# matcher to create token patterns\n",
    "# pattern is a dictionary for a token, lemmas are base forms buy -> bought\n",
    "from spacy.matcher import Matcher\n",
    "matcher2 = Matcher(nlp.vocab)\n",
    "matcher3 = Matcher(nlp.vocab)\n",
    "matcher4 = Matcher(nlp.vocab)\n",
    "pattern = [{'POS':  {\"IN\": [\"NOUN\", \"ADP\", \"ADJ\", \"ADV\"]} },\n",
    "           {'POS':  {\"IN\": [\"NOUN\", \"VERB\"]} }]\n",
    "matcher2.add(\"TwoWords\", [pattern])\n",
    "pattern = [{'POS':  {\"IN\": [\"NOUN\", \"ADP\", \"ADJ\", \"ADV\"]} },\n",
    "           {'IS_ASCII': True, 'IS_PUNCT': False, 'IS_SPACE': False},\n",
    "           {'POS':  {\"IN\": [\"NOUN\", \"VERB\", \"ADJ\", \"ADV\"]} }]\n",
    "matcher3.add(\"ThreeWords\", [pattern])\n",
    "pattern = [{'POS':  {\"IN\": [\"NOUN\", \"ADP\", \"ADJ\", \"ADV\"]} },{'IS_ASCII': True, 'IS_PUNCT': False, 'IS_SPACE': False},{'IS_ASCII': True, 'IS_PUNCT': False, 'IS_SPACE': False},\n",
    "{'POS':  {\"IN\": [\"NOUN\", \"VERB\", \"ADJ\", \"ADV\"]} }]\n",
    "matcher4.add(\"FourWords\", [pattern])\n",
    "matches2 = matcher2(doc)\n",
    "matches3 = matcher3(doc)\n",
    "matches4 = matcher4(doc)\n",
    "\n",
    "import syllapy\n",
    "import random\n",
    "g_5 = []\n",
    "g_7 = []\n",
    "    \n",
    "# foreach of the matched patterns if range total syllables is 5,7 add to list\n",
    "total_matches = matches2 + matches3 + matches4\n",
    "for match_id, start, end in total_matches:\n",
    "    span = doc[start:end]\n",
    "    string_id = nlp.vocab.strings[match_id]  # Get string representation\n",
    "    total_syl_count = 0\n",
    "    for token in span:\n",
    "        total_syl_count += syllapy.count(token.text)\n",
    "    if total_syl_count == 5:\n",
    "        if span.text not in g_5:\n",
    "            g_5.append(span.text)\n",
    "    if total_syl_count == 7:\n",
    "        if span.text not in g_7:\n",
    "            g_7.append(span.text)"
   ]
  },
  {
   "cell_type": "code",
   "execution_count": 12,
   "id": "7cf1e6c2",
   "metadata": {},
   "outputs": [],
   "source": [
    "def tokenise(doc, matches):\n",
    "    return [doc[k[1]:k[2]] for k in matches]\n",
    "token_list = list(set(tokenise(doc, total_matches)))\n",
    "g_5 = list(filter(lambda s:syllapy.count(s.text)==5,token_list))\n",
    "g_7 = list(filter(lambda s:syllapy.count(s.text)==7,token_list))"
   ]
  },
  {
   "cell_type": "code",
   "execution_count": null,
   "id": "bcd2bb70",
   "metadata": {},
   "outputs": [],
   "source": [
    "for k in range(10):\n",
    "    print(f\"{random.choice(g_5)}\\n{random.choice(g_7)}\\n{random.choice(g_5)}\\n\")"
   ]
  }
 ],
 "metadata": {
  "kernelspec": {
   "display_name": "Python 3",
   "language": "python",
   "name": "python3"
  },
  "language_info": {
   "codemirror_mode": {
    "name": "ipython",
    "version": 3
   },
   "file_extension": ".py",
   "mimetype": "text/x-python",
   "name": "python",
   "nbconvert_exporter": "python",
   "pygments_lexer": "ipython3",
   "version": "3.7.0"
  }
 },
 "nbformat": 4,
 "nbformat_minor": 5
}
